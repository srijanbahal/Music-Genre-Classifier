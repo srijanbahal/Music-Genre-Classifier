{
  "nbformat": 4,
  "nbformat_minor": 0,
  "metadata": {
    "colab": {
      "provenance": []
    },
    "kernelspec": {
      "name": "python3",
      "display_name": "Python 3"
    },
    "language_info": {
      "name": "python"
    }
  },
  "cells": [
    {
      "cell_type": "code",
      "execution_count": 1,
      "metadata": {
        "colab": {
          "base_uri": "https://localhost:8080/"
        },
        "id": "jRyePl2HmdY8",
        "outputId": "0ef1060c-afba-4490-ad89-da1736551d88"
      },
      "outputs": [
        {
          "output_type": "stream",
          "name": "stdout",
          "text": [
            "Downloading from https://www.kaggle.com/api/v1/datasets/download/andradaolteanu/gtzan-dataset-music-genre-classification?dataset_version_number=1...\n"
          ]
        },
        {
          "output_type": "stream",
          "name": "stderr",
          "text": [
            "100%|██████████| 1.21G/1.21G [00:17<00:00, 74.6MB/s]"
          ]
        },
        {
          "output_type": "stream",
          "name": "stdout",
          "text": [
            "Extracting files...\n"
          ]
        },
        {
          "output_type": "stream",
          "name": "stderr",
          "text": [
            "\n"
          ]
        },
        {
          "output_type": "stream",
          "name": "stdout",
          "text": [
            "Path to dataset files: /root/.cache/kagglehub/datasets/andradaolteanu/gtzan-dataset-music-genre-classification/versions/1\n"
          ]
        }
      ],
      "source": [
        "import kagglehub\n",
        "\n",
        "# Download latest version\n",
        "path = kagglehub.dataset_download(\"andradaolteanu/gtzan-dataset-music-genre-classification\")\n",
        "\n",
        "print(\"Path to dataset files:\", path)"
      ]
    },
    {
      "cell_type": "code",
      "source": [
        "data_path = path + \"/Data\""
      ],
      "metadata": {
        "id": "-AWLwO5gmiXK"
      },
      "execution_count": 66,
      "outputs": []
    },
    {
      "cell_type": "code",
      "source": [
        "import pandas as pd\n",
        "import numpy as np\n",
        "import seaborn as sns\n",
        "import librosa, librosa.display\n",
        "import matplotlib.pyplot as plt\n",
        "import IPython.display as ipd\n",
        "import sklearn\n",
        "from sklearn.preprocessing import StandardScaler, LabelEncoder\n",
        "from sklearn.model_selection import train_test_split\n",
        "from sklearn.metrics import accuracy_score, precision_score, recall_score, f1_score, classification_report\n",
        "from sklearn.metrics import confusion_matrix, ConfusionMatrixDisplay\n",
        "# import tensorflow as tf\n",
        "import warnings\n",
        "warnings.filterwarnings('ignore')\n",
        "from sklearn.ensemble import RandomForestClassifier\n",
        "from xgboost import XGBClassifier\n",
        "from sklearn.svm import SVC\n",
        "from sklearn.linear_model import LogisticRegression\n",
        "from sklearn.neural_network import MLPClassifier"
      ],
      "metadata": {
        "id": "oOCY03hPmjpM"
      },
      "execution_count": 106,
      "outputs": []
    },
    {
      "cell_type": "code",
      "source": [
        "feature30 = pd.read_csv(data_path + \"/features_30_sec.csv\")\n"
      ],
      "metadata": {
        "colab": {
          "base_uri": "https://localhost:8080/"
        },
        "id": "fPXwVH63mote",
        "outputId": "52a0d7f1-a177-42b5-94b3-f16169f4b47f"
      },
      "execution_count": 68,
      "outputs": [
        {
          "output_type": "stream",
          "name": "stdout",
          "text": [
            "Shape of Features_30sec is  (1000, 60)\n"
          ]
        }
      ]
    },
    {
      "cell_type": "code",
      "source": [
        "feature30.columns.tolist()"
      ],
      "metadata": {
        "colab": {
          "base_uri": "https://localhost:8080/"
        },
        "id": "csxn3xIemxN7",
        "outputId": "e4bb0ba0-83af-4c9f-d55b-42c067f9665e"
      },
      "execution_count": 69,
      "outputs": [
        {
          "output_type": "execute_result",
          "data": {
            "text/plain": [
              "['filename',\n",
              " 'length',\n",
              " 'chroma_stft_mean',\n",
              " 'chroma_stft_var',\n",
              " 'rms_mean',\n",
              " 'rms_var',\n",
              " 'spectral_centroid_mean',\n",
              " 'spectral_centroid_var',\n",
              " 'spectral_bandwidth_mean',\n",
              " 'spectral_bandwidth_var',\n",
              " 'rolloff_mean',\n",
              " 'rolloff_var',\n",
              " 'zero_crossing_rate_mean',\n",
              " 'zero_crossing_rate_var',\n",
              " 'harmony_mean',\n",
              " 'harmony_var',\n",
              " 'perceptr_mean',\n",
              " 'perceptr_var',\n",
              " 'tempo',\n",
              " 'mfcc1_mean',\n",
              " 'mfcc1_var',\n",
              " 'mfcc2_mean',\n",
              " 'mfcc2_var',\n",
              " 'mfcc3_mean',\n",
              " 'mfcc3_var',\n",
              " 'mfcc4_mean',\n",
              " 'mfcc4_var',\n",
              " 'mfcc5_mean',\n",
              " 'mfcc5_var',\n",
              " 'mfcc6_mean',\n",
              " 'mfcc6_var',\n",
              " 'mfcc7_mean',\n",
              " 'mfcc7_var',\n",
              " 'mfcc8_mean',\n",
              " 'mfcc8_var',\n",
              " 'mfcc9_mean',\n",
              " 'mfcc9_var',\n",
              " 'mfcc10_mean',\n",
              " 'mfcc10_var',\n",
              " 'mfcc11_mean',\n",
              " 'mfcc11_var',\n",
              " 'mfcc12_mean',\n",
              " 'mfcc12_var',\n",
              " 'mfcc13_mean',\n",
              " 'mfcc13_var',\n",
              " 'mfcc14_mean',\n",
              " 'mfcc14_var',\n",
              " 'mfcc15_mean',\n",
              " 'mfcc15_var',\n",
              " 'mfcc16_mean',\n",
              " 'mfcc16_var',\n",
              " 'mfcc17_mean',\n",
              " 'mfcc17_var',\n",
              " 'mfcc18_mean',\n",
              " 'mfcc18_var',\n",
              " 'mfcc19_mean',\n",
              " 'mfcc19_var',\n",
              " 'mfcc20_mean',\n",
              " 'mfcc20_var',\n",
              " 'label']"
            ]
          },
          "metadata": {},
          "execution_count": 69
        }
      ]
    },
    {
      "cell_type": "code",
      "source": [
        "feature30 = feature30.drop(columns='length')\n",
        "feature30_filenames = feature30[\"filename\"]\n",
        "feature30 = feature30.drop(columns=[\"filename\"])\n",
        "feature30.head()"
      ],
      "metadata": {
        "colab": {
          "base_uri": "https://localhost:8080/",
          "height": 255
        },
        "id": "HtWJOOEEm0JL",
        "outputId": "480afa11-999e-444a-8cc1-7844611403c3"
      },
      "execution_count": 70,
      "outputs": [
        {
          "output_type": "execute_result",
          "data": {
            "text/plain": [
              "   chroma_stft_mean  chroma_stft_var  rms_mean   rms_var  \\\n",
              "0          0.350088         0.088757  0.130228  0.002827   \n",
              "1          0.340914         0.094980  0.095948  0.002373   \n",
              "2          0.363637         0.085275  0.175570  0.002746   \n",
              "3          0.404785         0.093999  0.141093  0.006346   \n",
              "4          0.308526         0.087841  0.091529  0.002303   \n",
              "\n",
              "   spectral_centroid_mean  spectral_centroid_var  spectral_bandwidth_mean  \\\n",
              "0             1784.165850          129774.064525              2002.449060   \n",
              "1             1530.176679          375850.073649              2039.036516   \n",
              "2             1552.811865          156467.643368              1747.702312   \n",
              "3             1070.106615          184355.942417              1596.412872   \n",
              "4             1835.004266          343399.939274              1748.172116   \n",
              "\n",
              "   spectral_bandwidth_var  rolloff_mean   rolloff_var  ...  mfcc16_var  \\\n",
              "0            85882.761315   3805.839606  9.015054e+05  ...   52.420910   \n",
              "1           213843.755497   3550.522098  2.977893e+06  ...   55.356403   \n",
              "2            76254.192257   3042.260232  7.840345e+05  ...   40.598766   \n",
              "3           166441.494769   2184.745799  1.493194e+06  ...   44.427753   \n",
              "4            88445.209036   3579.757627  1.572978e+06  ...   86.099236   \n",
              "\n",
              "   mfcc17_mean  mfcc17_var  mfcc18_mean  mfcc18_var  mfcc19_mean  mfcc19_var  \\\n",
              "0    -1.690215   36.524071    -0.408979   41.597103    -2.303523   55.062923   \n",
              "1    -0.731125   60.314529     0.295073   48.120598    -0.283518   51.106190   \n",
              "2    -7.729093   47.639427    -1.816407   52.382141    -3.439720   46.639660   \n",
              "3    -3.319597   50.206673     0.636965   37.319130    -0.619121   37.259739   \n",
              "4    -5.454034   75.269707    -0.916874   53.613918    -4.404827   62.910812   \n",
              "\n",
              "   mfcc20_mean  mfcc20_var  label  \n",
              "0     1.221291   46.936035  blues  \n",
              "1     0.531217   45.786282  blues  \n",
              "2    -2.231258   30.573025  blues  \n",
              "3    -3.407448   31.949339  blues  \n",
              "4   -11.703234   55.195160  blues  \n",
              "\n",
              "[5 rows x 58 columns]"
            ],
            "text/html": [
              "\n",
              "  <div id=\"df-ced34f46-c464-4677-9be6-e1055ba0bec0\" class=\"colab-df-container\">\n",
              "    <div>\n",
              "<style scoped>\n",
              "    .dataframe tbody tr th:only-of-type {\n",
              "        vertical-align: middle;\n",
              "    }\n",
              "\n",
              "    .dataframe tbody tr th {\n",
              "        vertical-align: top;\n",
              "    }\n",
              "\n",
              "    .dataframe thead th {\n",
              "        text-align: right;\n",
              "    }\n",
              "</style>\n",
              "<table border=\"1\" class=\"dataframe\">\n",
              "  <thead>\n",
              "    <tr style=\"text-align: right;\">\n",
              "      <th></th>\n",
              "      <th>chroma_stft_mean</th>\n",
              "      <th>chroma_stft_var</th>\n",
              "      <th>rms_mean</th>\n",
              "      <th>rms_var</th>\n",
              "      <th>spectral_centroid_mean</th>\n",
              "      <th>spectral_centroid_var</th>\n",
              "      <th>spectral_bandwidth_mean</th>\n",
              "      <th>spectral_bandwidth_var</th>\n",
              "      <th>rolloff_mean</th>\n",
              "      <th>rolloff_var</th>\n",
              "      <th>...</th>\n",
              "      <th>mfcc16_var</th>\n",
              "      <th>mfcc17_mean</th>\n",
              "      <th>mfcc17_var</th>\n",
              "      <th>mfcc18_mean</th>\n",
              "      <th>mfcc18_var</th>\n",
              "      <th>mfcc19_mean</th>\n",
              "      <th>mfcc19_var</th>\n",
              "      <th>mfcc20_mean</th>\n",
              "      <th>mfcc20_var</th>\n",
              "      <th>label</th>\n",
              "    </tr>\n",
              "  </thead>\n",
              "  <tbody>\n",
              "    <tr>\n",
              "      <th>0</th>\n",
              "      <td>0.350088</td>\n",
              "      <td>0.088757</td>\n",
              "      <td>0.130228</td>\n",
              "      <td>0.002827</td>\n",
              "      <td>1784.165850</td>\n",
              "      <td>129774.064525</td>\n",
              "      <td>2002.449060</td>\n",
              "      <td>85882.761315</td>\n",
              "      <td>3805.839606</td>\n",
              "      <td>9.015054e+05</td>\n",
              "      <td>...</td>\n",
              "      <td>52.420910</td>\n",
              "      <td>-1.690215</td>\n",
              "      <td>36.524071</td>\n",
              "      <td>-0.408979</td>\n",
              "      <td>41.597103</td>\n",
              "      <td>-2.303523</td>\n",
              "      <td>55.062923</td>\n",
              "      <td>1.221291</td>\n",
              "      <td>46.936035</td>\n",
              "      <td>blues</td>\n",
              "    </tr>\n",
              "    <tr>\n",
              "      <th>1</th>\n",
              "      <td>0.340914</td>\n",
              "      <td>0.094980</td>\n",
              "      <td>0.095948</td>\n",
              "      <td>0.002373</td>\n",
              "      <td>1530.176679</td>\n",
              "      <td>375850.073649</td>\n",
              "      <td>2039.036516</td>\n",
              "      <td>213843.755497</td>\n",
              "      <td>3550.522098</td>\n",
              "      <td>2.977893e+06</td>\n",
              "      <td>...</td>\n",
              "      <td>55.356403</td>\n",
              "      <td>-0.731125</td>\n",
              "      <td>60.314529</td>\n",
              "      <td>0.295073</td>\n",
              "      <td>48.120598</td>\n",
              "      <td>-0.283518</td>\n",
              "      <td>51.106190</td>\n",
              "      <td>0.531217</td>\n",
              "      <td>45.786282</td>\n",
              "      <td>blues</td>\n",
              "    </tr>\n",
              "    <tr>\n",
              "      <th>2</th>\n",
              "      <td>0.363637</td>\n",
              "      <td>0.085275</td>\n",
              "      <td>0.175570</td>\n",
              "      <td>0.002746</td>\n",
              "      <td>1552.811865</td>\n",
              "      <td>156467.643368</td>\n",
              "      <td>1747.702312</td>\n",
              "      <td>76254.192257</td>\n",
              "      <td>3042.260232</td>\n",
              "      <td>7.840345e+05</td>\n",
              "      <td>...</td>\n",
              "      <td>40.598766</td>\n",
              "      <td>-7.729093</td>\n",
              "      <td>47.639427</td>\n",
              "      <td>-1.816407</td>\n",
              "      <td>52.382141</td>\n",
              "      <td>-3.439720</td>\n",
              "      <td>46.639660</td>\n",
              "      <td>-2.231258</td>\n",
              "      <td>30.573025</td>\n",
              "      <td>blues</td>\n",
              "    </tr>\n",
              "    <tr>\n",
              "      <th>3</th>\n",
              "      <td>0.404785</td>\n",
              "      <td>0.093999</td>\n",
              "      <td>0.141093</td>\n",
              "      <td>0.006346</td>\n",
              "      <td>1070.106615</td>\n",
              "      <td>184355.942417</td>\n",
              "      <td>1596.412872</td>\n",
              "      <td>166441.494769</td>\n",
              "      <td>2184.745799</td>\n",
              "      <td>1.493194e+06</td>\n",
              "      <td>...</td>\n",
              "      <td>44.427753</td>\n",
              "      <td>-3.319597</td>\n",
              "      <td>50.206673</td>\n",
              "      <td>0.636965</td>\n",
              "      <td>37.319130</td>\n",
              "      <td>-0.619121</td>\n",
              "      <td>37.259739</td>\n",
              "      <td>-3.407448</td>\n",
              "      <td>31.949339</td>\n",
              "      <td>blues</td>\n",
              "    </tr>\n",
              "    <tr>\n",
              "      <th>4</th>\n",
              "      <td>0.308526</td>\n",
              "      <td>0.087841</td>\n",
              "      <td>0.091529</td>\n",
              "      <td>0.002303</td>\n",
              "      <td>1835.004266</td>\n",
              "      <td>343399.939274</td>\n",
              "      <td>1748.172116</td>\n",
              "      <td>88445.209036</td>\n",
              "      <td>3579.757627</td>\n",
              "      <td>1.572978e+06</td>\n",
              "      <td>...</td>\n",
              "      <td>86.099236</td>\n",
              "      <td>-5.454034</td>\n",
              "      <td>75.269707</td>\n",
              "      <td>-0.916874</td>\n",
              "      <td>53.613918</td>\n",
              "      <td>-4.404827</td>\n",
              "      <td>62.910812</td>\n",
              "      <td>-11.703234</td>\n",
              "      <td>55.195160</td>\n",
              "      <td>blues</td>\n",
              "    </tr>\n",
              "  </tbody>\n",
              "</table>\n",
              "<p>5 rows × 58 columns</p>\n",
              "</div>\n",
              "    <div class=\"colab-df-buttons\">\n",
              "\n",
              "  <div class=\"colab-df-container\">\n",
              "    <button class=\"colab-df-convert\" onclick=\"convertToInteractive('df-ced34f46-c464-4677-9be6-e1055ba0bec0')\"\n",
              "            title=\"Convert this dataframe to an interactive table.\"\n",
              "            style=\"display:none;\">\n",
              "\n",
              "  <svg xmlns=\"http://www.w3.org/2000/svg\" height=\"24px\" viewBox=\"0 -960 960 960\">\n",
              "    <path d=\"M120-120v-720h720v720H120Zm60-500h600v-160H180v160Zm220 220h160v-160H400v160Zm0 220h160v-160H400v160ZM180-400h160v-160H180v160Zm440 0h160v-160H620v160ZM180-180h160v-160H180v160Zm440 0h160v-160H620v160Z\"/>\n",
              "  </svg>\n",
              "    </button>\n",
              "\n",
              "  <style>\n",
              "    .colab-df-container {\n",
              "      display:flex;\n",
              "      gap: 12px;\n",
              "    }\n",
              "\n",
              "    .colab-df-convert {\n",
              "      background-color: #E8F0FE;\n",
              "      border: none;\n",
              "      border-radius: 50%;\n",
              "      cursor: pointer;\n",
              "      display: none;\n",
              "      fill: #1967D2;\n",
              "      height: 32px;\n",
              "      padding: 0 0 0 0;\n",
              "      width: 32px;\n",
              "    }\n",
              "\n",
              "    .colab-df-convert:hover {\n",
              "      background-color: #E2EBFA;\n",
              "      box-shadow: 0px 1px 2px rgba(60, 64, 67, 0.3), 0px 1px 3px 1px rgba(60, 64, 67, 0.15);\n",
              "      fill: #174EA6;\n",
              "    }\n",
              "\n",
              "    .colab-df-buttons div {\n",
              "      margin-bottom: 4px;\n",
              "    }\n",
              "\n",
              "    [theme=dark] .colab-df-convert {\n",
              "      background-color: #3B4455;\n",
              "      fill: #D2E3FC;\n",
              "    }\n",
              "\n",
              "    [theme=dark] .colab-df-convert:hover {\n",
              "      background-color: #434B5C;\n",
              "      box-shadow: 0px 1px 3px 1px rgba(0, 0, 0, 0.15);\n",
              "      filter: drop-shadow(0px 1px 2px rgba(0, 0, 0, 0.3));\n",
              "      fill: #FFFFFF;\n",
              "    }\n",
              "  </style>\n",
              "\n",
              "    <script>\n",
              "      const buttonEl =\n",
              "        document.querySelector('#df-ced34f46-c464-4677-9be6-e1055ba0bec0 button.colab-df-convert');\n",
              "      buttonEl.style.display =\n",
              "        google.colab.kernel.accessAllowed ? 'block' : 'none';\n",
              "\n",
              "      async function convertToInteractive(key) {\n",
              "        const element = document.querySelector('#df-ced34f46-c464-4677-9be6-e1055ba0bec0');\n",
              "        const dataTable =\n",
              "          await google.colab.kernel.invokeFunction('convertToInteractive',\n",
              "                                                    [key], {});\n",
              "        if (!dataTable) return;\n",
              "\n",
              "        const docLinkHtml = 'Like what you see? Visit the ' +\n",
              "          '<a target=\"_blank\" href=https://colab.research.google.com/notebooks/data_table.ipynb>data table notebook</a>'\n",
              "          + ' to learn more about interactive tables.';\n",
              "        element.innerHTML = '';\n",
              "        dataTable['output_type'] = 'display_data';\n",
              "        await google.colab.output.renderOutput(dataTable, element);\n",
              "        const docLink = document.createElement('div');\n",
              "        docLink.innerHTML = docLinkHtml;\n",
              "        element.appendChild(docLink);\n",
              "      }\n",
              "    </script>\n",
              "  </div>\n",
              "\n",
              "\n",
              "<div id=\"df-e432f845-444d-4fd0-83d5-5e77e1cc0a87\">\n",
              "  <button class=\"colab-df-quickchart\" onclick=\"quickchart('df-e432f845-444d-4fd0-83d5-5e77e1cc0a87')\"\n",
              "            title=\"Suggest charts\"\n",
              "            style=\"display:none;\">\n",
              "\n",
              "<svg xmlns=\"http://www.w3.org/2000/svg\" height=\"24px\"viewBox=\"0 0 24 24\"\n",
              "     width=\"24px\">\n",
              "    <g>\n",
              "        <path d=\"M19 3H5c-1.1 0-2 .9-2 2v14c0 1.1.9 2 2 2h14c1.1 0 2-.9 2-2V5c0-1.1-.9-2-2-2zM9 17H7v-7h2v7zm4 0h-2V7h2v10zm4 0h-2v-4h2v4z\"/>\n",
              "    </g>\n",
              "</svg>\n",
              "  </button>\n",
              "\n",
              "<style>\n",
              "  .colab-df-quickchart {\n",
              "      --bg-color: #E8F0FE;\n",
              "      --fill-color: #1967D2;\n",
              "      --hover-bg-color: #E2EBFA;\n",
              "      --hover-fill-color: #174EA6;\n",
              "      --disabled-fill-color: #AAA;\n",
              "      --disabled-bg-color: #DDD;\n",
              "  }\n",
              "\n",
              "  [theme=dark] .colab-df-quickchart {\n",
              "      --bg-color: #3B4455;\n",
              "      --fill-color: #D2E3FC;\n",
              "      --hover-bg-color: #434B5C;\n",
              "      --hover-fill-color: #FFFFFF;\n",
              "      --disabled-bg-color: #3B4455;\n",
              "      --disabled-fill-color: #666;\n",
              "  }\n",
              "\n",
              "  .colab-df-quickchart {\n",
              "    background-color: var(--bg-color);\n",
              "    border: none;\n",
              "    border-radius: 50%;\n",
              "    cursor: pointer;\n",
              "    display: none;\n",
              "    fill: var(--fill-color);\n",
              "    height: 32px;\n",
              "    padding: 0;\n",
              "    width: 32px;\n",
              "  }\n",
              "\n",
              "  .colab-df-quickchart:hover {\n",
              "    background-color: var(--hover-bg-color);\n",
              "    box-shadow: 0 1px 2px rgba(60, 64, 67, 0.3), 0 1px 3px 1px rgba(60, 64, 67, 0.15);\n",
              "    fill: var(--button-hover-fill-color);\n",
              "  }\n",
              "\n",
              "  .colab-df-quickchart-complete:disabled,\n",
              "  .colab-df-quickchart-complete:disabled:hover {\n",
              "    background-color: var(--disabled-bg-color);\n",
              "    fill: var(--disabled-fill-color);\n",
              "    box-shadow: none;\n",
              "  }\n",
              "\n",
              "  .colab-df-spinner {\n",
              "    border: 2px solid var(--fill-color);\n",
              "    border-color: transparent;\n",
              "    border-bottom-color: var(--fill-color);\n",
              "    animation:\n",
              "      spin 1s steps(1) infinite;\n",
              "  }\n",
              "\n",
              "  @keyframes spin {\n",
              "    0% {\n",
              "      border-color: transparent;\n",
              "      border-bottom-color: var(--fill-color);\n",
              "      border-left-color: var(--fill-color);\n",
              "    }\n",
              "    20% {\n",
              "      border-color: transparent;\n",
              "      border-left-color: var(--fill-color);\n",
              "      border-top-color: var(--fill-color);\n",
              "    }\n",
              "    30% {\n",
              "      border-color: transparent;\n",
              "      border-left-color: var(--fill-color);\n",
              "      border-top-color: var(--fill-color);\n",
              "      border-right-color: var(--fill-color);\n",
              "    }\n",
              "    40% {\n",
              "      border-color: transparent;\n",
              "      border-right-color: var(--fill-color);\n",
              "      border-top-color: var(--fill-color);\n",
              "    }\n",
              "    60% {\n",
              "      border-color: transparent;\n",
              "      border-right-color: var(--fill-color);\n",
              "    }\n",
              "    80% {\n",
              "      border-color: transparent;\n",
              "      border-right-color: var(--fill-color);\n",
              "      border-bottom-color: var(--fill-color);\n",
              "    }\n",
              "    90% {\n",
              "      border-color: transparent;\n",
              "      border-bottom-color: var(--fill-color);\n",
              "    }\n",
              "  }\n",
              "</style>\n",
              "\n",
              "  <script>\n",
              "    async function quickchart(key) {\n",
              "      const quickchartButtonEl =\n",
              "        document.querySelector('#' + key + ' button');\n",
              "      quickchartButtonEl.disabled = true;  // To prevent multiple clicks.\n",
              "      quickchartButtonEl.classList.add('colab-df-spinner');\n",
              "      try {\n",
              "        const charts = await google.colab.kernel.invokeFunction(\n",
              "            'suggestCharts', [key], {});\n",
              "      } catch (error) {\n",
              "        console.error('Error during call to suggestCharts:', error);\n",
              "      }\n",
              "      quickchartButtonEl.classList.remove('colab-df-spinner');\n",
              "      quickchartButtonEl.classList.add('colab-df-quickchart-complete');\n",
              "    }\n",
              "    (() => {\n",
              "      let quickchartButtonEl =\n",
              "        document.querySelector('#df-e432f845-444d-4fd0-83d5-5e77e1cc0a87 button');\n",
              "      quickchartButtonEl.style.display =\n",
              "        google.colab.kernel.accessAllowed ? 'block' : 'none';\n",
              "    })();\n",
              "  </script>\n",
              "</div>\n",
              "\n",
              "    </div>\n",
              "  </div>\n"
            ],
            "application/vnd.google.colaboratory.intrinsic+json": {
              "type": "dataframe",
              "variable_name": "feature30"
            }
          },
          "metadata": {},
          "execution_count": 70
        }
      ]
    },
    {
      "cell_type": "code",
      "source": [
        "feature30.head()\n",
        "feature30.shape"
      ],
      "metadata": {
        "colab": {
          "base_uri": "https://localhost:8080/"
        },
        "id": "u5lOzZZ5m32K",
        "outputId": "75936193-e63e-4ab3-8789-4c139de32808"
      },
      "execution_count": 71,
      "outputs": [
        {
          "output_type": "execute_result",
          "data": {
            "text/plain": [
              "(1000, 58)"
            ]
          },
          "metadata": {},
          "execution_count": 71
        }
      ]
    },
    {
      "cell_type": "markdown",
      "source": [
        "Performing Label Encoding"
      ],
      "metadata": {
        "id": "l0QIThy_nkzD"
      }
    },
    {
      "cell_type": "code",
      "source": [
        "label_encoder = LabelEncoder()\n",
        "y = label_encoder.fit_transform(feature30[\"label\"])\n",
        "X = feature30.drop(columns=[\"label\"]).values"
      ],
      "metadata": {
        "id": "xYAo4QrKnPa0"
      },
      "execution_count": 72,
      "outputs": []
    },
    {
      "cell_type": "code",
      "source": [
        "label_map = dict(zip(label_encoder.classes_, label_encoder.transform(label_encoder.classes_)))\n",
        "inv_label_map = {v: k for k, v in label_map.items()}"
      ],
      "metadata": {
        "id": "E7DIcXCWnj5C"
      },
      "execution_count": 73,
      "outputs": []
    },
    {
      "cell_type": "code",
      "source": [
        "inv_label_map"
      ],
      "metadata": {
        "colab": {
          "base_uri": "https://localhost:8080/"
        },
        "id": "RVHPg32Uoz91",
        "outputId": "b49626d3-40fc-4835-e621-dc246bd2f47a"
      },
      "execution_count": 74,
      "outputs": [
        {
          "output_type": "execute_result",
          "data": {
            "text/plain": [
              "{np.int64(0): 'blues',\n",
              " np.int64(1): 'classical',\n",
              " np.int64(2): 'country',\n",
              " np.int64(3): 'disco',\n",
              " np.int64(4): 'hiphop',\n",
              " np.int64(5): 'jazz',\n",
              " np.int64(6): 'metal',\n",
              " np.int64(7): 'pop',\n",
              " np.int64(8): 'reggae',\n",
              " np.int64(9): 'rock'}"
            ]
          },
          "metadata": {},
          "execution_count": 74
        }
      ]
    },
    {
      "cell_type": "markdown",
      "source": [
        "Missing values Handling"
      ],
      "metadata": {
        "id": "F3h2XE_wpReq"
      }
    },
    {
      "cell_type": "code",
      "source": [
        "feature30.isnull().sum()"
      ],
      "metadata": {
        "colab": {
          "base_uri": "https://localhost:8080/",
          "height": 1000
        },
        "id": "8xRtUKCkpJBH",
        "outputId": "bdd4ebd0-975f-478d-ded3-237997f9332d"
      },
      "execution_count": 75,
      "outputs": [
        {
          "output_type": "execute_result",
          "data": {
            "text/plain": [
              "chroma_stft_mean           0\n",
              "chroma_stft_var            0\n",
              "rms_mean                   0\n",
              "rms_var                    0\n",
              "spectral_centroid_mean     0\n",
              "spectral_centroid_var      0\n",
              "spectral_bandwidth_mean    0\n",
              "spectral_bandwidth_var     0\n",
              "rolloff_mean               0\n",
              "rolloff_var                0\n",
              "zero_crossing_rate_mean    0\n",
              "zero_crossing_rate_var     0\n",
              "harmony_mean               0\n",
              "harmony_var                0\n",
              "perceptr_mean              0\n",
              "perceptr_var               0\n",
              "tempo                      0\n",
              "mfcc1_mean                 0\n",
              "mfcc1_var                  0\n",
              "mfcc2_mean                 0\n",
              "mfcc2_var                  0\n",
              "mfcc3_mean                 0\n",
              "mfcc3_var                  0\n",
              "mfcc4_mean                 0\n",
              "mfcc4_var                  0\n",
              "mfcc5_mean                 0\n",
              "mfcc5_var                  0\n",
              "mfcc6_mean                 0\n",
              "mfcc6_var                  0\n",
              "mfcc7_mean                 0\n",
              "mfcc7_var                  0\n",
              "mfcc8_mean                 0\n",
              "mfcc8_var                  0\n",
              "mfcc9_mean                 0\n",
              "mfcc9_var                  0\n",
              "mfcc10_mean                0\n",
              "mfcc10_var                 0\n",
              "mfcc11_mean                0\n",
              "mfcc11_var                 0\n",
              "mfcc12_mean                0\n",
              "mfcc12_var                 0\n",
              "mfcc13_mean                0\n",
              "mfcc13_var                 0\n",
              "mfcc14_mean                0\n",
              "mfcc14_var                 0\n",
              "mfcc15_mean                0\n",
              "mfcc15_var                 0\n",
              "mfcc16_mean                0\n",
              "mfcc16_var                 0\n",
              "mfcc17_mean                0\n",
              "mfcc17_var                 0\n",
              "mfcc18_mean                0\n",
              "mfcc18_var                 0\n",
              "mfcc19_mean                0\n",
              "mfcc19_var                 0\n",
              "mfcc20_mean                0\n",
              "mfcc20_var                 0\n",
              "label                      0\n",
              "dtype: int64"
            ],
            "text/html": [
              "<div>\n",
              "<style scoped>\n",
              "    .dataframe tbody tr th:only-of-type {\n",
              "        vertical-align: middle;\n",
              "    }\n",
              "\n",
              "    .dataframe tbody tr th {\n",
              "        vertical-align: top;\n",
              "    }\n",
              "\n",
              "    .dataframe thead th {\n",
              "        text-align: right;\n",
              "    }\n",
              "</style>\n",
              "<table border=\"1\" class=\"dataframe\">\n",
              "  <thead>\n",
              "    <tr style=\"text-align: right;\">\n",
              "      <th></th>\n",
              "      <th>0</th>\n",
              "    </tr>\n",
              "  </thead>\n",
              "  <tbody>\n",
              "    <tr>\n",
              "      <th>chroma_stft_mean</th>\n",
              "      <td>0</td>\n",
              "    </tr>\n",
              "    <tr>\n",
              "      <th>chroma_stft_var</th>\n",
              "      <td>0</td>\n",
              "    </tr>\n",
              "    <tr>\n",
              "      <th>rms_mean</th>\n",
              "      <td>0</td>\n",
              "    </tr>\n",
              "    <tr>\n",
              "      <th>rms_var</th>\n",
              "      <td>0</td>\n",
              "    </tr>\n",
              "    <tr>\n",
              "      <th>spectral_centroid_mean</th>\n",
              "      <td>0</td>\n",
              "    </tr>\n",
              "    <tr>\n",
              "      <th>spectral_centroid_var</th>\n",
              "      <td>0</td>\n",
              "    </tr>\n",
              "    <tr>\n",
              "      <th>spectral_bandwidth_mean</th>\n",
              "      <td>0</td>\n",
              "    </tr>\n",
              "    <tr>\n",
              "      <th>spectral_bandwidth_var</th>\n",
              "      <td>0</td>\n",
              "    </tr>\n",
              "    <tr>\n",
              "      <th>rolloff_mean</th>\n",
              "      <td>0</td>\n",
              "    </tr>\n",
              "    <tr>\n",
              "      <th>rolloff_var</th>\n",
              "      <td>0</td>\n",
              "    </tr>\n",
              "    <tr>\n",
              "      <th>zero_crossing_rate_mean</th>\n",
              "      <td>0</td>\n",
              "    </tr>\n",
              "    <tr>\n",
              "      <th>zero_crossing_rate_var</th>\n",
              "      <td>0</td>\n",
              "    </tr>\n",
              "    <tr>\n",
              "      <th>harmony_mean</th>\n",
              "      <td>0</td>\n",
              "    </tr>\n",
              "    <tr>\n",
              "      <th>harmony_var</th>\n",
              "      <td>0</td>\n",
              "    </tr>\n",
              "    <tr>\n",
              "      <th>perceptr_mean</th>\n",
              "      <td>0</td>\n",
              "    </tr>\n",
              "    <tr>\n",
              "      <th>perceptr_var</th>\n",
              "      <td>0</td>\n",
              "    </tr>\n",
              "    <tr>\n",
              "      <th>tempo</th>\n",
              "      <td>0</td>\n",
              "    </tr>\n",
              "    <tr>\n",
              "      <th>mfcc1_mean</th>\n",
              "      <td>0</td>\n",
              "    </tr>\n",
              "    <tr>\n",
              "      <th>mfcc1_var</th>\n",
              "      <td>0</td>\n",
              "    </tr>\n",
              "    <tr>\n",
              "      <th>mfcc2_mean</th>\n",
              "      <td>0</td>\n",
              "    </tr>\n",
              "    <tr>\n",
              "      <th>mfcc2_var</th>\n",
              "      <td>0</td>\n",
              "    </tr>\n",
              "    <tr>\n",
              "      <th>mfcc3_mean</th>\n",
              "      <td>0</td>\n",
              "    </tr>\n",
              "    <tr>\n",
              "      <th>mfcc3_var</th>\n",
              "      <td>0</td>\n",
              "    </tr>\n",
              "    <tr>\n",
              "      <th>mfcc4_mean</th>\n",
              "      <td>0</td>\n",
              "    </tr>\n",
              "    <tr>\n",
              "      <th>mfcc4_var</th>\n",
              "      <td>0</td>\n",
              "    </tr>\n",
              "    <tr>\n",
              "      <th>mfcc5_mean</th>\n",
              "      <td>0</td>\n",
              "    </tr>\n",
              "    <tr>\n",
              "      <th>mfcc5_var</th>\n",
              "      <td>0</td>\n",
              "    </tr>\n",
              "    <tr>\n",
              "      <th>mfcc6_mean</th>\n",
              "      <td>0</td>\n",
              "    </tr>\n",
              "    <tr>\n",
              "      <th>mfcc6_var</th>\n",
              "      <td>0</td>\n",
              "    </tr>\n",
              "    <tr>\n",
              "      <th>mfcc7_mean</th>\n",
              "      <td>0</td>\n",
              "    </tr>\n",
              "    <tr>\n",
              "      <th>mfcc7_var</th>\n",
              "      <td>0</td>\n",
              "    </tr>\n",
              "    <tr>\n",
              "      <th>mfcc8_mean</th>\n",
              "      <td>0</td>\n",
              "    </tr>\n",
              "    <tr>\n",
              "      <th>mfcc8_var</th>\n",
              "      <td>0</td>\n",
              "    </tr>\n",
              "    <tr>\n",
              "      <th>mfcc9_mean</th>\n",
              "      <td>0</td>\n",
              "    </tr>\n",
              "    <tr>\n",
              "      <th>mfcc9_var</th>\n",
              "      <td>0</td>\n",
              "    </tr>\n",
              "    <tr>\n",
              "      <th>mfcc10_mean</th>\n",
              "      <td>0</td>\n",
              "    </tr>\n",
              "    <tr>\n",
              "      <th>mfcc10_var</th>\n",
              "      <td>0</td>\n",
              "    </tr>\n",
              "    <tr>\n",
              "      <th>mfcc11_mean</th>\n",
              "      <td>0</td>\n",
              "    </tr>\n",
              "    <tr>\n",
              "      <th>mfcc11_var</th>\n",
              "      <td>0</td>\n",
              "    </tr>\n",
              "    <tr>\n",
              "      <th>mfcc12_mean</th>\n",
              "      <td>0</td>\n",
              "    </tr>\n",
              "    <tr>\n",
              "      <th>mfcc12_var</th>\n",
              "      <td>0</td>\n",
              "    </tr>\n",
              "    <tr>\n",
              "      <th>mfcc13_mean</th>\n",
              "      <td>0</td>\n",
              "    </tr>\n",
              "    <tr>\n",
              "      <th>mfcc13_var</th>\n",
              "      <td>0</td>\n",
              "    </tr>\n",
              "    <tr>\n",
              "      <th>mfcc14_mean</th>\n",
              "      <td>0</td>\n",
              "    </tr>\n",
              "    <tr>\n",
              "      <th>mfcc14_var</th>\n",
              "      <td>0</td>\n",
              "    </tr>\n",
              "    <tr>\n",
              "      <th>mfcc15_mean</th>\n",
              "      <td>0</td>\n",
              "    </tr>\n",
              "    <tr>\n",
              "      <th>mfcc15_var</th>\n",
              "      <td>0</td>\n",
              "    </tr>\n",
              "    <tr>\n",
              "      <th>mfcc16_mean</th>\n",
              "      <td>0</td>\n",
              "    </tr>\n",
              "    <tr>\n",
              "      <th>mfcc16_var</th>\n",
              "      <td>0</td>\n",
              "    </tr>\n",
              "    <tr>\n",
              "      <th>mfcc17_mean</th>\n",
              "      <td>0</td>\n",
              "    </tr>\n",
              "    <tr>\n",
              "      <th>mfcc17_var</th>\n",
              "      <td>0</td>\n",
              "    </tr>\n",
              "    <tr>\n",
              "      <th>mfcc18_mean</th>\n",
              "      <td>0</td>\n",
              "    </tr>\n",
              "    <tr>\n",
              "      <th>mfcc18_var</th>\n",
              "      <td>0</td>\n",
              "    </tr>\n",
              "    <tr>\n",
              "      <th>mfcc19_mean</th>\n",
              "      <td>0</td>\n",
              "    </tr>\n",
              "    <tr>\n",
              "      <th>mfcc19_var</th>\n",
              "      <td>0</td>\n",
              "    </tr>\n",
              "    <tr>\n",
              "      <th>mfcc20_mean</th>\n",
              "      <td>0</td>\n",
              "    </tr>\n",
              "    <tr>\n",
              "      <th>mfcc20_var</th>\n",
              "      <td>0</td>\n",
              "    </tr>\n",
              "    <tr>\n",
              "      <th>label</th>\n",
              "      <td>0</td>\n",
              "    </tr>\n",
              "  </tbody>\n",
              "</table>\n",
              "</div><br><label><b>dtype:</b> int64</label>"
            ]
          },
          "metadata": {},
          "execution_count": 75
        }
      ]
    },
    {
      "cell_type": "markdown",
      "source": [
        "Performing Train test Split"
      ],
      "metadata": {
        "id": "2ex0uDyhpFaw"
      }
    },
    {
      "cell_type": "code",
      "source": [
        "X_train, X_test, y_train, y_test = train_test_split(\n",
        "    X, y, test_size=0.2, random_state=42, stratify=y\n",
        ")"
      ],
      "metadata": {
        "id": "NmawFmSqo1sY"
      },
      "execution_count": 76,
      "outputs": []
    },
    {
      "cell_type": "code",
      "source": [
        "print(\"Shape of X_train is \", X_train.shape)\n",
        "print(\"Shape of y_train is \", y_train.shape)\n",
        "print(\"Shape of X_test is \", X_test.shape)\n",
        "print(\"Shape of y_test is \", y_test.shape)"
      ],
      "metadata": {
        "colab": {
          "base_uri": "https://localhost:8080/"
        },
        "id": "SM0RdY5YpcBY",
        "outputId": "f25b2f35-ec3e-440a-cf9f-7b0153303983"
      },
      "execution_count": 77,
      "outputs": [
        {
          "output_type": "stream",
          "name": "stdout",
          "text": [
            "Shape of X_train is  (800, 57)\n",
            "Shape of y_train is  (800,)\n",
            "Shape of X_test is  (200, 57)\n",
            "Shape of y_test is  (200,)\n"
          ]
        }
      ]
    },
    {
      "cell_type": "code",
      "source": [
        "print(\"X_train is\", X_train)\n",
        "print(\"X_test is\", X_test)\n",
        "print(\"y_train is\", y_train)\n",
        "print(\"y_test is\", y_test)"
      ],
      "metadata": {
        "colab": {
          "base_uri": "https://localhost:8080/"
        },
        "id": "zb5En4E4pfZm",
        "outputId": "ee3ada8a-21c5-4f40-a912-217986a16f9b"
      },
      "execution_count": 78,
      "outputs": [
        {
          "output_type": "stream",
          "name": "stdout",
          "text": [
            "X_train is [[ 2.93696195e-01  8.61618593e-02  1.46971136e-01 ...  7.71162643e+01\n",
            "  -5.11480522e+00  9.35421829e+01]\n",
            " [ 3.82780999e-01  8.18207934e-02  2.09497571e-01 ...  3.37479553e+01\n",
            "   1.82735896e+00  4.41181068e+01]\n",
            " [ 3.74336630e-01  8.47431496e-02  1.07105821e-01 ...  3.31746941e+01\n",
            "  -2.70335317e+00  3.32078323e+01]\n",
            " ...\n",
            " [ 3.90347421e-01  8.51396695e-02  9.65365618e-02 ...  3.33640099e+01\n",
            "  -1.17349184e+00  3.47640762e+01]\n",
            " [ 4.73975331e-01  7.75349811e-02  1.91986457e-01 ...  5.26532173e+01\n",
            "   2.31176719e-01  4.36805267e+01]\n",
            " [ 3.65328461e-01  8.63151476e-02  1.44382030e-01 ...  3.61983109e+01\n",
            "  -5.91581249e+00  4.35436554e+01]]\n",
            "X_test is [[ 2.08079696e-01  8.26177597e-02  5.16805202e-02 ...  8.83574524e+01\n",
            "   3.54028368e+00  1.65091721e+02]\n",
            " [ 3.90913635e-01  1.00480244e-01  6.30842298e-02 ...  4.53934135e+01\n",
            "  -3.43142462e+00  3.25176277e+01]\n",
            " [ 4.14736241e-01  8.96623135e-02  4.88493033e-02 ...  7.07131577e+01\n",
            "   6.60749435e-01  5.14312210e+01]\n",
            " ...\n",
            " [ 2.61474460e-01  8.51158202e-02  3.32155712e-02 ...  8.77299728e+01\n",
            "   3.20195580e+00  1.02571999e+02]\n",
            " [ 3.78719956e-01  8.12981799e-02  1.01727515e-01 ...  5.09813423e+01\n",
            "  -1.34769404e+00  4.38718033e+01]\n",
            " [ 3.22181731e-01  9.00796279e-02  1.04693964e-01 ...  7.58496475e+01\n",
            "  -1.07112818e+01  8.48381577e+01]]\n",
            "y_train is [5 2 9 5 5 4 2 7 8 9 2 7 9 6 7 9 7 7 0 1 0 8 6 4 9 0 4 3 9 4 8 6 0 0 6 1 0\n",
            " 3 9 4 5 7 9 1 4 5 5 8 1 3 8 8 7 2 0 2 4 3 5 2 4 0 4 2 6 2 8 5 5 1 3 1 5 7\n",
            " 2 7 7 8 6 2 8 4 5 4 3 5 2 6 4 7 5 6 4 5 6 9 5 8 3 3 6 3 6 2 6 1 7 1 5 3 4\n",
            " 3 2 9 1 6 7 4 9 3 0 9 4 8 9 4 8 9 1 5 7 4 9 8 2 0 9 0 7 3 8 8 4 0 6 5 6 0\n",
            " 3 1 6 6 5 8 6 7 1 6 9 2 8 4 2 5 3 4 5 5 2 2 2 7 8 0 1 8 3 1 6 6 7 8 0 5 2\n",
            " 9 2 6 1 7 2 4 3 6 4 9 0 4 0 0 9 4 0 4 2 0 2 6 7 2 4 6 5 5 6 4 0 3 7 7 5 2\n",
            " 0 2 0 4 5 7 4 4 3 3 3 1 3 8 0 0 3 6 8 5 4 2 1 2 1 7 2 7 0 4 0 2 0 3 9 1 6\n",
            " 7 4 3 6 3 7 0 2 6 2 9 7 6 3 0 1 5 4 0 1 7 3 5 0 8 9 4 2 5 4 1 1 3 7 0 8 7\n",
            " 4 5 1 4 6 9 5 7 4 4 0 1 0 6 5 7 9 7 9 3 3 3 8 9 4 1 3 6 7 6 0 5 3 0 5 7 7\n",
            " 4 0 6 4 3 6 5 8 4 6 1 4 5 6 2 6 4 8 8 6 1 0 8 0 4 6 5 6 8 3 2 2 3 9 6 8 4\n",
            " 7 7 3 9 3 3 3 7 2 6 5 4 5 8 8 7 6 4 9 5 6 2 2 3 5 6 3 2 5 8 9 0 3 1 9 4 2\n",
            " 7 9 3 7 2 9 8 7 8 4 9 8 6 1 3 8 9 2 0 3 7 9 0 6 9 6 9 6 9 7 2 9 4 7 1 6 7\n",
            " 4 9 0 7 5 3 3 0 7 9 5 7 7 0 1 3 0 4 1 7 2 1 7 1 9 9 8 6 9 5 0 2 1 6 7 6 0\n",
            " 5 1 6 6 4 5 4 8 6 5 8 7 0 3 9 3 8 5 3 1 1 7 1 3 2 2 9 2 8 2 6 8 8 1 6 7 9\n",
            " 8 9 7 5 5 3 2 3 0 8 8 1 0 0 0 8 9 9 1 9 1 8 5 0 6 2 3 2 4 3 2 6 9 2 1 1 0\n",
            " 1 3 4 6 7 0 2 3 9 6 8 1 5 8 6 6 1 8 6 4 1 1 1 4 0 8 8 9 9 5 6 1 3 9 1 1 8\n",
            " 8 8 9 9 2 0 4 5 8 0 4 9 2 8 7 1 4 2 5 0 3 2 1 1 6 2 2 8 7 0 0 5 1 3 5 5 3\n",
            " 8 0 3 5 2 8 4 7 4 8 5 4 7 1 4 1 0 5 1 0 3 2 2 6 2 0 8 9 7 6 4 5 5 8 4 0 7\n",
            " 6 3 9 8 1 3 5 2 1 3 5 8 4 7 0 2 9 7 8 5 7 5 3 9 5 0 0 4 7 1 1 1 9 4 5 8 8\n",
            " 9 2 9 1 2 4 4 3 4 9 8 1 9 9 0 8 0 3 3 7 1 9 1 8 4 0 9 3 8 9 9 8 2 2 1 1 7\n",
            " 6 6 7 2 3 9 5 1 5 6 1 5 2 5 3 8 7 0 6 5 6 2 4 7 8 2 0 1 9 6 2 1 8 1 7 0 5\n",
            " 7 8 6 7 3 3 5 1 0 9 7 1 7 5 0 4 0 2 9 3 9 3 2]\n",
            "y_test is [1 0 6 5 0 2 9 2 4 5 0 0 8 0 9 3 8 5 3 9 2 6 0 2 0 1 7 8 5 5 6 2 5 4 1 6 9\n",
            " 4 2 3 8 9 7 0 5 5 6 1 4 7 4 6 4 5 8 3 3 1 1 8 6 8 8 9 3 9 9 1 9 7 6 8 1 7\n",
            " 8 4 3 7 7 7 3 7 8 4 5 9 8 4 9 5 6 8 6 3 2 5 5 2 8 8 6 0 8 7 6 9 3 3 6 3 0\n",
            " 0 1 2 1 2 1 9 8 7 3 0 5 9 8 1 6 4 6 3 6 4 7 5 7 2 3 2 3 8 5 0 3 0 2 4 4 0\n",
            " 1 4 7 1 1 0 9 0 6 5 1 0 3 3 4 5 8 9 9 2 7 0 6 5 0 9 7 1 7 4 2 3 6 4 9 4 1\n",
            " 7 6 2 5 2 4 1 7 7 4 2 2 1 9 2]\n"
          ]
        }
      ]
    },
    {
      "cell_type": "markdown",
      "source": [
        "Scaling The Xtrain and Xtest"
      ],
      "metadata": {
        "id": "nLTgdUyCpyOd"
      }
    },
    {
      "cell_type": "code",
      "source": [
        "scaler = StandardScaler()\n",
        "X_train = scaler.fit_transform(X_train)\n",
        "X_test = scaler.transform(X_test)"
      ],
      "metadata": {
        "id": "3ftZ89Vqppmi"
      },
      "execution_count": 79,
      "outputs": []
    },
    {
      "cell_type": "markdown",
      "source": [
        "Training On ML Models"
      ],
      "metadata": {
        "id": "8F9ONL6irJE2"
      }
    },
    {
      "cell_type": "code",
      "source": [
        "models = {\n",
        "    \"RandomForest\": RandomForestClassifier(random_state=42),\n",
        "    \"XGBoost\": XGBClassifier(use_label_encoder=False, eval_metric='mlogloss', random_state=42),\n",
        "    \"SVM\": SVC(probability=True, random_state=42),\n",
        "    \"LogisticRegression\": LogisticRegression(max_iter=1000, random_state=42),\n",
        "    \"MLPClassifier\": MLPClassifier(hidden_layer_sizes=(128, 64), max_iter=500, random_state=42)\n",
        "}\n"
      ],
      "metadata": {
        "id": "PPgP8U9Wp3JS"
      },
      "execution_count": 93,
      "outputs": []
    },
    {
      "cell_type": "code",
      "source": [
        "# Dict to store all results\n",
        "results = {\n",
        "    'Model': [],\n",
        "    'Accuracy': [],\n",
        "    'Precision': [],\n",
        "    'Recall': [],\n",
        "    'F1-Score': [],\n",
        "    'y_pred': [],  # optional, for confusion matrix\n",
        "}"
      ],
      "metadata": {
        "id": "uLB5sCpust98"
      },
      "execution_count": 94,
      "outputs": []
    },
    {
      "cell_type": "code",
      "source": [
        "for name, model in models.items():\n",
        "    model.fit(X_train, y_train)\n",
        "    y_pred = model.predict(X_test)\n",
        "\n",
        "    # Store metrics (macro average for multiclass)\n",
        "    results['Model'].append(name)\n",
        "    results['Accuracy'].append(accuracy_score(y_test, y_pred))\n",
        "    results['Precision'].append(precision_score(y_test, y_pred, average='macro'))\n",
        "    results['Recall'].append(recall_score(y_test, y_pred, average='macro'))\n",
        "    results['F1-Score'].append(f1_score(y_test, y_pred, average='macro'))\n",
        "    results['y_pred'].append(accuracy_score(y_test,y_pred))  # Save preds for later CM plotting\n",
        "\n",
        "    print(f\"\\n{name} Done.\")\n",
        "    print(\"Accuracy:\", accuracy_score(y_test, y_pred))\n",
        "    # print(\"Classification Report:\\n\", classification_report(y_test, y_pred))"
      ],
      "metadata": {
        "colab": {
          "base_uri": "https://localhost:8080/"
        },
        "id": "Z_kzN9OKrMxS",
        "outputId": "742e73a5-f051-48ec-ccfc-e89c61c80526"
      },
      "execution_count": 95,
      "outputs": [
        {
          "output_type": "stream",
          "name": "stdout",
          "text": [
            "\n",
            "RandomForest Done.\n",
            "Accuracy: 0.685\n",
            "\n",
            "XGBoost Done.\n",
            "Accuracy: 0.735\n",
            "\n",
            "SVM Done.\n",
            "Accuracy: 0.735\n",
            "\n",
            "LogisticRegression Done.\n",
            "Accuracy: 0.71\n",
            "\n",
            "MLPClassifier Done.\n",
            "Accuracy: 0.745\n"
          ]
        }
      ]
    },
    {
      "cell_type": "code",
      "source": [
        "results_df = pd.DataFrame(results)"
      ],
      "metadata": {
        "id": "MMsiO2xirWjV"
      },
      "execution_count": 96,
      "outputs": []
    },
    {
      "cell_type": "code",
      "source": [
        "# Accuracy Bar Plot\n",
        "plt.figure(figsize=(8, 5))\n",
        "sns.barplot(x='Model', y='Accuracy', data=results_df, palette='viridis')\n",
        "plt.title(\"Model Accuracy Comparison\")\n",
        "plt.ylim(0.6, 0.85)\n",
        "plt.grid(True)\n",
        "plt.show()"
      ],
      "metadata": {
        "colab": {
          "base_uri": "https://localhost:8080/",
          "height": 487
        },
        "id": "EW6vEqTytTz0",
        "outputId": "60271e45-ad94-4786-de1f-c42efb531438"
      },
      "execution_count": 98,
      "outputs": [
        {
          "output_type": "display_data",
          "data": {
            "text/plain": [
              "<Figure size 800x500 with 1 Axes>"
            ],
            "image/png": "[encoded data removed]"
          },
          "metadata": {}
        }
      ]
    },
    {
      "cell_type": "markdown",
      "source": [
        "- MLPClassifier achieves the highest accuracy (~0.745), indicating it performs best at classifying the data correctly.\n",
        "\n",
        "- XGBoost and SVM perform almost equally well, both showing good generalization with accuracies around 0.735.\n",
        "\n",
        "- Logistic Regression is slightly behind, with accuracy around 0.715, still reasonable.\n",
        "\n",
        "- RandomForest shows the lowest accuracy (~0.685) among all models, suggesting it may not be the best fit for this dataset or might need hyperparameter tuning.\n",
        "\n",
        "Insight:\n",
        "*MLPClassifier is the most accurate model overall, while RandomForest underperforms compared to the others.*"
      ],
      "metadata": {
        "id": "_e8izxOvwQUz"
      }
    },
    {
      "cell_type": "code",
      "source": [
        "melted = results_df.melt(id_vars=\"Model\", value_vars=[\"Precision\", \"Recall\", \"F1-Score\"], var_name=\"Metric\")\n",
        "plt.figure(figsize=(8, 4))\n",
        "sns.barplot(x=\"Model\", y=\"value\", hue=\"Metric\", data=melted, palette=\"coolwarm\")\n",
        "plt.title(\"Precision, Recall, F1-Score Comparison\")\n",
        "plt.ylim(0.5, 0.85)\n",
        "plt.ylabel(\"Score\")\n",
        "plt.grid(True)\n",
        "plt.tight_layout()\n",
        "plt.show()"
      ],
      "metadata": {
        "colab": {
          "base_uri": "https://localhost:8080/",
          "height": 407
        },
        "id": "hsXKwk3OuMl9",
        "outputId": "098400f2-6be8-4e35-9b0e-0d6ec5e65817"
      },
      "execution_count": 107,
      "outputs": [
        {
          "output_type": "display_data",
          "data": {
            "text/plain": [
              "<Figure size 800x400 with 1 Axes>"
            ],
            "image/png": "[encoded data removed]"
          },
          "metadata": {}
        }
      ]
    },
    {
      "cell_type": "markdown",
      "source": [
        "- MLPClassifier leads across all metrics: Precision (~ 0.765), Recall (~ 0.745), and F1-Score (~0.745) — making it the most balanced and reliable model.\n",
        "\n",
        "- SVM and XGBoost follow closely with stable and balanced scores, indicating robust performance.\n",
        "\n",
        "- Logistic Regression has slightly lower metrics across the board.\n",
        "\n",
        "- RandomForest shows the weakest performance with the lowest precision, recall, and F1-Score, suggesting it's misclassifying more frequently.\n",
        "\n",
        "Insight:\n",
        "*MLPClassifier not only delivers the best accuracy but also maintains strong balance in precision, recall, and F1-score, making it the most dependable choice.*\n",
        "\n"
      ],
      "metadata": {
        "id": "wK5eM7KnwfNA"
      }
    }
  ]
}